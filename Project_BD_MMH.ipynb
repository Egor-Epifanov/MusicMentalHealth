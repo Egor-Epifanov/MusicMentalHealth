{
 "cells": [
  {
   "cell_type": "code",
   "execution_count": 1,
   "id": "35639171-f418-44ad-bb39-bc020b17400e",
   "metadata": {},
   "outputs": [
    {
     "data": {
      "text/html": [
       "\n",
       "            <div>\n",
       "                <p><b>SparkSession - in-memory</b></p>\n",
       "                \n",
       "        <div>\n",
       "            <p><b>SparkContext</b></p>\n",
       "\n",
       "            <p><a href=\"http://host.docker.internal:4040\">Spark UI</a></p>\n",
       "\n",
       "            <dl>\n",
       "              <dt>Version</dt>\n",
       "                <dd><code>v3.5.1</code></dd>\n",
       "              <dt>Master</dt>\n",
       "                <dd><code>local[*]</code></dd>\n",
       "              <dt>AppName</dt>\n",
       "                <dd><code>DataPreprocessing</code></dd>\n",
       "            </dl>\n",
       "        </div>\n",
       "        \n",
       "            </div>\n",
       "        "
      ],
      "text/plain": [
       "<pyspark.sql.session.SparkSession at 0x205fd40a630>"
      ]
     },
     "execution_count": 1,
     "metadata": {},
     "output_type": "execute_result"
    }
   ],
   "source": [
    "import findspark\n",
    "findspark.init()\n",
    "\n",
    "import pyspark\n",
    "\n",
    "from pyspark.sql import SparkSession\n",
    "spark = SparkSession.builder.master(\"local[*]\").appName(\"DataPreprocessing\").getOrCreate()\n",
    "spark"
   ]
  },
  {
   "cell_type": "code",
   "execution_count": 52,
   "id": "749882fd-5688-4ecb-adc5-1006806417f1",
   "metadata": {},
   "outputs": [],
   "source": [
    "musicDF = spark.read.option('header', 'true').csv(\"file:/D:/mxmh_survey_results.csv\")"
   ]
  },
  {
   "cell_type": "code",
   "execution_count": 53,
   "id": "5eebfdb5-ca74-4b5c-836a-30db772076fc",
   "metadata": {},
   "outputs": [
    {
     "name": "stdout",
     "output_type": "stream",
     "text": [
      "root\n",
      " |-- Age: integer (nullable = true)\n",
      " |-- StrService: string (nullable = true)\n",
      " |-- HoursPerDay: double (nullable = true)\n",
      " |-- WhileWorking: string (nullable = true)\n",
      " |-- Instrumentalist: string (nullable = true)\n",
      " |-- Composer: string (nullable = true)\n",
      " |-- FavGenre: string (nullable = true)\n",
      " |-- Exploratory: string (nullable = true)\n",
      " |-- ForeignLanguages: string (nullable = true)\n",
      " |-- BPM: integer (nullable = true)\n",
      " |-- FrequencyClassical: string (nullable = true)\n",
      " |-- FrequencyCountry: string (nullable = true)\n",
      " |-- FrequencyEDM: string (nullable = true)\n",
      " |-- FrequencyFolk: string (nullable = true)\n",
      " |-- FrequencyGospel: string (nullable = true)\n",
      " |-- FrequencyHipHop: string (nullable = true)\n",
      " |-- FrequencyJazz: string (nullable = true)\n",
      " |-- FrequencyKpop: string (nullable = true)\n",
      " |-- FrequencyLatin: string (nullable = true)\n",
      " |-- FrequencyLofi: string (nullable = true)\n",
      " |-- FrequencyMetal: string (nullable = true)\n",
      " |-- FrequencyPop: string (nullable = true)\n",
      " |-- FrequencyR&B: string (nullable = true)\n",
      " |-- FrequencyRap: string (nullable = true)\n",
      " |-- FrequencyRock: string (nullable = true)\n",
      " |-- FrequencyVideoGameMusic: string (nullable = true)\n",
      " |-- Anxiety: integer (nullable = true)\n",
      " |-- Depression: integer (nullable = true)\n",
      " |-- Insomnia: integer (nullable = true)\n",
      " |-- OCD: integer (nullable = true)\n",
      " |-- MusicEffects: string (nullable = true)\n",
      "\n"
     ]
    }
   ],
   "source": [
    "from functools import reduce\n",
    "from pyspark.sql.functions import col, round, when\n",
    "\n",
    "# Удаляем ненужный столбец:\n",
    "musicDF = musicDF.drop(\"Permissions\")\n",
    "musicDF = musicDF.drop(\"Timestamp\")\n",
    "\n",
    "# Создадим список новых столбцов:\n",
    "oldColumns = musicDF.schema.names\n",
    "newColumns = [\"Age\", \"StrService\", \"HoursPerDay\", \"WhileWorking\", \"Instrumentalist\", \"Composer\", \"FavGenre\", \"Exploratory\", \"ForeignLanguages\", \n",
    "              \"BPM\", \"FrequencyClassical\", \"FrequencyCountry\", \"FrequencyEDM\", \"FrequencyFolk\", \"FrequencyGospel\", \"FrequencyHipHop\", \"FrequencyJazz\", \n",
    "              \"FrequencyKpop\", \"FrequencyLatin\", \"FrequencyLofi\", \"FrequencyMetal\", \"FrequencyPop\", \"FrequencyR&B\", \"FrequencyRap\", \"FrequencyRock\",\n",
    "              \"FrequencyVideoGameMusic\", \"Anxiety\", \"Depression\", \"Insomnia\", \"OCD\", \"MusicEffects\"] \n",
    "\n",
    "# Замена столбцов:\n",
    "musicDF = reduce(lambda data, idx: data.withColumnRenamed(oldColumns[idx], newColumns[idx]), range(len(oldColumns)), musicDF)\n",
    "\n",
    "\n",
    "# Список для обновления типов данных в столбцах:\n",
    "columns_and_types = [\n",
    "    (\"Age\", \"integer\"),\n",
    "    (\"HoursPerDay\", \"double\"),\n",
    "    (\"BPM\", \"integer\"),\n",
    "    (\"Anxiety\", \"integer\"),\n",
    "    (\"Depression\", \"integer\"),\n",
    "    (\"Insomnia\", \"integer\"),\n",
    "    (\"OCD\", \"integer\")\n",
    "]\n",
    "\n",
    "# Обновление типов данных в столбцах\n",
    "for column, data_type in columns_and_types:\n",
    "    musicDF = musicDF.withColumn(column, col(column).cast(data_type))\n",
    "\n",
    "# Очищение памяти\n",
    "del column\n",
    "del data_type\n",
    "del oldColumns\n",
    "del columns_and_types\n",
    "\n",
    "musicDF.printSchema()"
   ]
  },
  {
   "cell_type": "code",
   "execution_count": 54,
   "id": "dc14b411-d68f-4779-a77f-74431f506ac4",
   "metadata": {},
   "outputs": [
    {
     "data": {
      "text/plain": [
       "736"
      ]
     },
     "execution_count": 54,
     "metadata": {},
     "output_type": "execute_result"
    }
   ],
   "source": [
    "# Подсчёт количества строк для отслеживания количества потерянных данных\n",
    "musicDF.count()"
   ]
  },
  {
   "cell_type": "code",
   "execution_count": 55,
   "id": "6298b3be-052a-433f-9546-07de6267bf30",
   "metadata": {
    "scrolled": true
   },
   "outputs": [
    {
     "name": "stdout",
     "output_type": "stream",
     "text": [
      "--------------------------------------\n",
      " Столбец Age: [18. 63. 61. 21. 19. nan 17. 16. 15. 14. 20. 26. 23. 37. 36. 24. 22. 42.\n",
      " 25. 32. 29. 41. 31. 33. 30. 43. 28. 34. 13. 35. 27. 53. 49. 60. 38. 44.\n",
      " 40. 64. 56. 59. 10. 12. 54. 57. 69. 72. 73. 39. 58. 67. 70. 55. 48. 71.\n",
      " 74. 51. 65. 80. 50. 68. 46. 89.]\n",
      "--------------------------------------\n",
      " Столбец StrService: ['Spotify' 'Pandora' 'YouTube Music' 'I do not use a streaming service.'\n",
      " 'Apple Music' 'Other streaming service' None]\n",
      "--------------------------------------\n",
      " Столбец HoursPerDay: [ 3.    1.5   4.    2.5   5.    1.    6.    8.    2.   12.   24.    0.5\n",
      "  0.25  0.    7.   10.    9.    0.7   4.5  20.   16.   15.   14.   13.\n",
      "  0.1  11.   18.  ]\n",
      "--------------------------------------\n",
      " Столбец WhileWorking: ['Yes' 'No' None]\n",
      "--------------------------------------\n",
      " Столбец Instrumentalist: ['Yes' 'No' None]\n",
      "--------------------------------------\n",
      " Столбец Composer: ['Yes' 'No' None]\n",
      "--------------------------------------\n",
      " Столбец FavGenre: ['Latin' 'Rock' 'Video game music' 'Jazz' 'R&B' 'K pop' 'Country' 'EDM'\n",
      " 'Hip hop' 'Pop' 'Rap' 'Classical' 'Metal' 'Folk' 'Lofi' 'Gospel']\n",
      "--------------------------------------\n",
      " Столбец Exploratory: ['Yes' 'No']\n",
      "--------------------------------------\n",
      " Столбец ForeignLanguages: ['Yes' 'No' None]\n",
      "--------------------------------------\n",
      " Столбец BPM: [1.56000000e+02 1.19000000e+02 1.32000000e+02 8.40000000e+01\n",
      " 1.07000000e+02 8.60000000e+01 6.60000000e+01 9.50000000e+01\n",
      " 9.40000000e+01 1.55000000e+02            nan 1.25000000e+02\n",
      " 8.80000000e+01 1.48000000e+02 1.03000000e+02 1.20000000e+02\n",
      " 9.90000000e+01 1.18000000e+02 7.90000000e+01 1.69000000e+02\n",
      " 1.36000000e+02 1.01000000e+02 1.26000000e+02 1.83000000e+02\n",
      " 1.42000000e+02 7.50000000e+01 8.90000000e+01 1.40000000e+02\n",
      " 1.61000000e+02 8.00000000e+01 1.30000000e+02 1.47000000e+02\n",
      " 7.70000000e+01 1.15000000e+02 1.57000000e+02 9.00000000e+01\n",
      " 1.28000000e+02 9.60000000e+01 9.10000000e+01 5.50000000e+01\n",
      " 8.50000000e+01 1.60000000e+02 1.08000000e+02 1.70000000e+02\n",
      " 1.74000000e+02 1.27000000e+02 1.65000000e+02 1.13000000e+02\n",
      " 1.67000000e+02 1.10000000e+02 1.50000000e+02 9.30000000e+01\n",
      " 1.09000000e+02 1.75000000e+02 1.62000000e+02 1.89000000e+02\n",
      " 1.21000000e+02 2.00000000e+02 1.05000000e+02 1.93000000e+02\n",
      " 1.49000000e+02 1.34000000e+02 1.00000000e+02 9.80000000e+01\n",
      " 7.80000000e+01 1.17000000e+02 1.22000000e+02 1.79000000e+02\n",
      " 1.66000000e+02 1.44000000e+02 6.10000000e+01 1.85000000e+02\n",
      " 9.20000000e+01 1.94000000e+02 6.00000000e+01 1.90000000e+02\n",
      " 8.70000000e+01 1.71000000e+02 1.14000000e+02 1.41000000e+02\n",
      " 1.46000000e+02 1.64000000e+02 1.45000000e+02 1.12000000e+02\n",
      " 1.11000000e+02 1.72000000e+02 1.80000000e+02 7.60000000e+01\n",
      " 1.29000000e+02 8.10000000e+01 5.20000000e+01 9.70000000e+01\n",
      " 1.43000000e+02 1.58000000e+02 1.04000000e+02 1.35000000e+02\n",
      " 2.20000000e+02 1.38000000e+02 1.39000000e+02 1.78000000e+02\n",
      " 6.20000000e+01 7.20000000e+01 0.00000000e+00 2.08000000e+02\n",
      " 2.00000000e+01 1.24000000e+02 1.81000000e+02 1.06000000e+02\n",
      " 1.91000000e+02 4.00000000e+01 1.73000000e+02 1.23000000e+02\n",
      " 4.00000000e+00 7.30000000e+01 1.37000000e+02 1.33000000e+02\n",
      " 1.02000000e+02 8.20000000e+01 1.16000000e+02 1.31000000e+02\n",
      " 2.04000000e+02 1.59000000e+02 7.00000000e+01 2.10000000e+02\n",
      " 8.00000000e+00 9.99999999e+08 1.53000000e+02 1.92000000e+02\n",
      " 5.60000000e+01 6.30000000e+01 6.80000000e+01 6.24000000e+02\n",
      " 2.18000000e+02 1.86000000e+02 1.63000000e+02 1.68000000e+02]\n",
      "--------------------------------------\n",
      " Столбец FrequencyClassical: ['Rarely' 'Sometimes' 'Never' 'Very frequently']\n",
      "--------------------------------------\n",
      " Столбец FrequencyCountry: ['Never' 'Sometimes' 'Very frequently' 'Rarely']\n",
      "--------------------------------------\n",
      " Столбец FrequencyEDM: ['Rarely' 'Never' 'Very frequently' 'Sometimes']\n",
      "--------------------------------------\n",
      " Столбец FrequencyFolk: ['Never' 'Rarely' 'Sometimes' 'Very frequently']\n",
      "--------------------------------------\n",
      " Столбец FrequencyGospel: ['Never' 'Sometimes' 'Rarely' 'Very frequently']\n",
      "--------------------------------------\n",
      " Столбец FrequencyHipHop: ['Sometimes' 'Rarely' 'Never' 'Very frequently']\n",
      "--------------------------------------\n",
      " Столбец FrequencyJazz: ['Never' 'Very frequently' 'Rarely' 'Sometimes']\n",
      "--------------------------------------\n",
      " Столбец FrequencyKpop: ['Very frequently' 'Rarely' 'Sometimes' 'Never']\n",
      "--------------------------------------\n",
      " Столбец FrequencyLatin: ['Very frequently' 'Sometimes' 'Never' 'Rarely']\n",
      "--------------------------------------\n",
      " Столбец FrequencyLofi: ['Rarely' 'Sometimes' 'Very frequently' 'Never']\n",
      "--------------------------------------\n",
      " Столбец FrequencyMetal: ['Never' 'Sometimes' 'Rarely' 'Very frequently']\n",
      "--------------------------------------\n",
      " Столбец FrequencyPop: ['Very frequently' 'Sometimes' 'Rarely' 'Never']\n",
      "--------------------------------------\n",
      " Столбец FrequencyR&B: ['Sometimes' 'Never' 'Very frequently' 'Rarely']\n",
      "--------------------------------------\n",
      " Столбец FrequencyRap: ['Very frequently' 'Rarely' 'Never' 'Sometimes']\n",
      "--------------------------------------\n",
      " Столбец FrequencyRock: ['Never' 'Very frequently' 'Rarely' 'Sometimes']\n",
      "--------------------------------------\n",
      " Столбец FrequencyVideoGameMusic: ['Sometimes' 'Rarely' 'Very frequently' 'Never']\n",
      "--------------------------------------\n",
      " Столбец Anxiety: [ 3  7  9  8  4  5  2  1  6 10  0]\n",
      "--------------------------------------\n",
      " Столбец Depression: [ 0  2  7  8  3  1  4  5  9 10  6]\n",
      "--------------------------------------\n",
      " Столбец Insomnia: [ 1  2 10  3  5  7  6  0  4  8  9]\n",
      "--------------------------------------\n",
      " Столбец OCD: [ 0  1  2  3  9  7  4  6 10  5  8]\n",
      "--------------------------------------\n",
      " Столбец MusicEffects: [None 'No effect' 'Improve' 'Worsen']\n"
     ]
    }
   ],
   "source": [
    "# Вывод уникальных значений:\n",
    "for column in newColumns:\n",
    "    print(f\"--------------------------------------\\n Столбец {column}: {musicDF.toPandas()[column].unique()}\")\n",
    "del column"
   ]
  },
  {
   "cell_type": "code",
   "execution_count": 56,
   "id": "18068178-6c3a-4587-a97d-73e959e27956",
   "metadata": {},
   "outputs": [],
   "source": [
    "# Создание временного представления:\n",
    "musicDF.createOrReplaceTempView(\"music\")"
   ]
  },
  {
   "cell_type": "code",
   "execution_count": 57,
   "id": "d8abaa0a-d702-46f3-8739-669290284184",
   "metadata": {
    "scrolled": true
   },
   "outputs": [
    {
     "name": "stdout",
     "output_type": "stream",
     "text": [
      "+----+\n",
      "| BPM|\n",
      "+----+\n",
      "|NULL|\n",
      "|NULL|\n",
      "|NULL|\n",
      "|NULL|\n",
      "|NULL|\n",
      "|NULL|\n",
      "|NULL|\n",
      "|NULL|\n",
      "|NULL|\n",
      "|NULL|\n",
      "|NULL|\n",
      "|NULL|\n",
      "|NULL|\n",
      "|NULL|\n",
      "|NULL|\n",
      "|NULL|\n",
      "|NULL|\n",
      "|NULL|\n",
      "|NULL|\n",
      "|NULL|\n",
      "+----+\n",
      "only showing top 20 rows\n",
      "\n"
     ]
    }
   ],
   "source": [
    "spark.sql(\"\"\"   SELECT BPM\n",
    "                FROM music\n",
    "                ORDER BY BPM ASC\"\"\").show()"
   ]
  },
  {
   "cell_type": "code",
   "execution_count": 60,
   "id": "774b2144-4ed2-4f79-8f35-13c72f57f720",
   "metadata": {},
   "outputs": [
    {
     "name": "stdout",
     "output_type": "stream",
     "text": [
      "+------------------+\n",
      "|count(Exploratory)|\n",
      "+------------------+\n",
      "|               107|\n",
      "+------------------+\n",
      "\n"
     ]
    }
   ],
   "source": [
    "# берем столбец Exploratory так как в нем отсутствуют нулевые значения\n",
    "spark.sql(\"\"\"   SELECT COUNT(Exploratory)\n",
    "                FROM music\n",
    "                WHERE BPM IS NULL\"\"\").show()"
   ]
  },
  {
   "cell_type": "code",
   "execution_count": 61,
   "id": "08c0eaaf-6a54-4e35-9f35-afdb0ffa31b7",
   "metadata": {
    "scrolled": true
   },
   "outputs": [
    {
     "name": "stdout",
     "output_type": "stream",
     "text": [
      "+---------+\n",
      "|      BPM|\n",
      "+---------+\n",
      "|999999999|\n",
      "|      624|\n",
      "|      220|\n",
      "|      220|\n",
      "|      218|\n",
      "|      210|\n",
      "|      210|\n",
      "|      208|\n",
      "|      204|\n",
      "|      200|\n",
      "|      200|\n",
      "|      200|\n",
      "|      200|\n",
      "|      200|\n",
      "|      200|\n",
      "|      200|\n",
      "|      194|\n",
      "|      194|\n",
      "|      193|\n",
      "|      192|\n",
      "+---------+\n",
      "only showing top 20 rows\n",
      "\n"
     ]
    }
   ],
   "source": [
    "spark.sql(\"\"\"   SELECT BPM\n",
    "                FROM music\n",
    "                ORDER BY BPM DESC\"\"\").show()"
   ]
  },
  {
   "cell_type": "code",
   "execution_count": 62,
   "id": "d09bc0e6-8da4-46f2-bda9-36ee7270ca07",
   "metadata": {
    "scrolled": true
   },
   "outputs": [
    {
     "name": "stdout",
     "output_type": "stream",
     "text": [
      "+---+\n",
      "|Age|\n",
      "+---+\n",
      "| 89|\n",
      "| 80|\n",
      "| 74|\n",
      "| 73|\n",
      "| 72|\n",
      "| 71|\n",
      "| 70|\n",
      "| 69|\n",
      "| 68|\n",
      "| 67|\n",
      "| 67|\n",
      "| 67|\n",
      "| 65|\n",
      "| 64|\n",
      "| 64|\n",
      "| 64|\n",
      "| 63|\n",
      "| 63|\n",
      "| 63|\n",
      "| 61|\n",
      "+---+\n",
      "only showing top 20 rows\n",
      "\n"
     ]
    }
   ],
   "source": [
    "spark.sql(\"\"\"   SELECT Age\n",
    "                FROM music\n",
    "                ORDER BY Age DESC\"\"\").show()"
   ]
  },
  {
   "cell_type": "code",
   "execution_count": 63,
   "id": "c7339f68-db86-46a8-9d35-954aab3c752d",
   "metadata": {
    "scrolled": true
   },
   "outputs": [
    {
     "name": "stdout",
     "output_type": "stream",
     "text": [
      "+----+\n",
      "| Age|\n",
      "+----+\n",
      "|NULL|\n",
      "|  10|\n",
      "|  12|\n",
      "|  12|\n",
      "|  12|\n",
      "|  13|\n",
      "|  13|\n",
      "|  13|\n",
      "|  13|\n",
      "|  13|\n",
      "|  13|\n",
      "|  13|\n",
      "|  13|\n",
      "|  14|\n",
      "|  14|\n",
      "|  14|\n",
      "|  14|\n",
      "|  14|\n",
      "|  14|\n",
      "|  14|\n",
      "+----+\n",
      "only showing top 20 rows\n",
      "\n"
     ]
    }
   ],
   "source": [
    "spark.sql(\"\"\"   SELECT Age\n",
    "                FROM music\n",
    "                ORDER BY Age ASC\"\"\").show()"
   ]
  },
  {
   "cell_type": "code",
   "execution_count": 64,
   "id": "1733e5e9-3ad9-4153-88b2-7b902462b3cf",
   "metadata": {
    "scrolled": true
   },
   "outputs": [
    {
     "name": "stdout",
     "output_type": "stream",
     "text": [
      "+-----------+\n",
      "|HoursPerDay|\n",
      "+-----------+\n",
      "|        0.0|\n",
      "|        0.0|\n",
      "|        0.0|\n",
      "|        0.0|\n",
      "|        0.0|\n",
      "|        0.0|\n",
      "|        0.1|\n",
      "|       0.25|\n",
      "|       0.25|\n",
      "|       0.25|\n",
      "|        0.5|\n",
      "|        0.5|\n",
      "|        0.5|\n",
      "|        0.5|\n",
      "|        0.5|\n",
      "|        0.5|\n",
      "|        0.5|\n",
      "|        0.5|\n",
      "|        0.5|\n",
      "|        0.5|\n",
      "+-----------+\n",
      "only showing top 20 rows\n",
      "\n"
     ]
    }
   ],
   "source": [
    "spark.sql(\"\"\"   SELECT HoursPerDay\n",
    "                FROM music\n",
    "                ORDER BY HoursPerDay ASC\"\"\").show()"
   ]
  },
  {
   "cell_type": "code",
   "execution_count": 65,
   "id": "9913bb1c-d918-41ff-b210-2acdb9857109",
   "metadata": {
    "scrolled": true
   },
   "outputs": [
    {
     "name": "stdout",
     "output_type": "stream",
     "text": [
      "+-----------+\n",
      "|HoursPerDay|\n",
      "+-----------+\n",
      "|       24.0|\n",
      "|       24.0|\n",
      "|       24.0|\n",
      "|       20.0|\n",
      "|       18.0|\n",
      "|       16.0|\n",
      "|       15.0|\n",
      "|       15.0|\n",
      "|       14.0|\n",
      "|       13.0|\n",
      "|       12.0|\n",
      "|       12.0|\n",
      "|       12.0|\n",
      "|       12.0|\n",
      "|       12.0|\n",
      "|       12.0|\n",
      "|       12.0|\n",
      "|       12.0|\n",
      "|       12.0|\n",
      "|       11.0|\n",
      "+-----------+\n",
      "only showing top 20 rows\n",
      "\n"
     ]
    }
   ],
   "source": [
    "spark.sql(\"\"\"   SELECT HoursPerDay\n",
    "                FROM music\n",
    "                ORDER BY HoursPerDay DESC\"\"\").show()"
   ]
  },
  {
   "cell_type": "code",
   "execution_count": 66,
   "id": "a89b767e-22f4-4554-921e-bb0a557af70c",
   "metadata": {},
   "outputs": [
    {
     "name": "stdout",
     "output_type": "stream",
     "text": [
      "+----------+\n",
      "|StrService|\n",
      "+----------+\n",
      "|      NULL|\n",
      "+----------+\n",
      "\n"
     ]
    }
   ],
   "source": [
    "spark.sql(\"\"\"   SELECT StrService\n",
    "                FROM music\n",
    "                WHERE StrService IS NULL\"\"\").show()"
   ]
  },
  {
   "cell_type": "code",
   "execution_count": 67,
   "id": "e9a00dc2-94b2-4dd8-b851-9d61b568422c",
   "metadata": {},
   "outputs": [
    {
     "name": "stdout",
     "output_type": "stream",
     "text": [
      "+------------+\n",
      "|MusicEffects|\n",
      "+------------+\n",
      "|        NULL|\n",
      "|        NULL|\n",
      "|        NULL|\n",
      "|        NULL|\n",
      "|        NULL|\n",
      "|        NULL|\n",
      "|        NULL|\n",
      "|        NULL|\n",
      "+------------+\n",
      "\n"
     ]
    }
   ],
   "source": [
    "spark.sql(\"\"\"   SELECT MusicEffects\n",
    "                FROM music\n",
    "                WHERE MusicEffects IS NULL\"\"\").show()"
   ]
  },
  {
   "cell_type": "code",
   "execution_count": 68,
   "id": "e86a6c07-71b5-434b-b4ed-6ba47b73fef1",
   "metadata": {},
   "outputs": [
    {
     "name": "stdout",
     "output_type": "stream",
     "text": [
      "+------------+\n",
      "|WhileWorking|\n",
      "+------------+\n",
      "|        NULL|\n",
      "|        NULL|\n",
      "|        NULL|\n",
      "+------------+\n",
      "\n"
     ]
    }
   ],
   "source": [
    "spark.sql(\"\"\"   SELECT WhileWorking\n",
    "                FROM music\n",
    "                WHERE WhileWorking IS NULL\"\"\").show()"
   ]
  },
  {
   "cell_type": "code",
   "execution_count": 69,
   "id": "a41aadb7-36c4-4de8-9be7-7effda92c112",
   "metadata": {},
   "outputs": [
    {
     "name": "stdout",
     "output_type": "stream",
     "text": [
      "+---------------+\n",
      "|Instrumentalist|\n",
      "+---------------+\n",
      "|           NULL|\n",
      "|           NULL|\n",
      "|           NULL|\n",
      "|           NULL|\n",
      "+---------------+\n",
      "\n"
     ]
    }
   ],
   "source": [
    "spark.sql(\"\"\"   SELECT Instrumentalist\n",
    "                FROM music\n",
    "                WHERE Instrumentalist IS NULL\"\"\").show()"
   ]
  },
  {
   "cell_type": "code",
   "execution_count": 70,
   "id": "f688d8cc-9486-4f37-b7fb-e6b8fe645773",
   "metadata": {},
   "outputs": [
    {
     "name": "stdout",
     "output_type": "stream",
     "text": [
      "+----------------+\n",
      "|ForeignLanguages|\n",
      "+----------------+\n",
      "|            NULL|\n",
      "|            NULL|\n",
      "|            NULL|\n",
      "|            NULL|\n",
      "+----------------+\n",
      "\n"
     ]
    }
   ],
   "source": [
    "spark.sql(\"\"\"   SELECT ForeignLanguages\n",
    "                FROM music\n",
    "                WHERE ForeignLanguages IS NULL\"\"\").show()"
   ]
  },
  {
   "cell_type": "code",
   "execution_count": 71,
   "id": "02c43534-ba0e-477e-8631-95bdf8d190de",
   "metadata": {},
   "outputs": [],
   "source": [
    "import matplotlib.pyplot as plt"
   ]
  },
  {
   "cell_type": "code",
   "execution_count": 72,
   "id": "f3642602-747b-4757-a1c9-1e62c5c100e2",
   "metadata": {},
   "outputs": [
    {
     "data": {
      "text/plain": [
       "<Axes: xlabel='HoursPerDay', ylabel='Age'>"
      ]
     },
     "execution_count": 72,
     "metadata": {},
     "output_type": "execute_result"
    },
    {
     "data": {
      "image/png": "[encoded data removed]",
      "text/plain": [
       "<Figure size 640x480 with 1 Axes>"
      ]
     },
     "metadata": {},
     "output_type": "display_data"
    }
   ],
   "source": [
    "musicDF.toPandas().plot.scatter (x = 'HoursPerDay', y = 'Age')"
   ]
  },
  {
   "cell_type": "code",
   "execution_count": 73,
   "id": "24f1c341-7c99-457e-b4c5-2fec6bdc9725",
   "metadata": {},
   "outputs": [],
   "source": [
    "# Отсечения выбросов (без BPM, так как пропадут нулевые значения):\n",
    "musicDF=musicDF.filter(musicDF.Age<=70)\n",
    "musicDF=musicDF.filter(musicDF.Age>=13)\n",
    "musicDF=musicDF.filter(musicDF.HoursPerDay<=12.0)\n",
    "musicDF=musicDF.filter(musicDF.HoursPerDay>0.0)"
   ]
  },
  {
   "cell_type": "code",
   "execution_count": 74,
   "id": "fe6999ba-dd41-486d-b72f-8bad01e2e5cc",
   "metadata": {},
   "outputs": [
    {
     "data": {
      "text/plain": [
       "<Axes: xlabel='HoursPerDay', ylabel='Age'>"
      ]
     },
     "execution_count": 74,
     "metadata": {},
     "output_type": "execute_result"
    },
    {
     "data": {
      "image/png": "[encoded data removed]",
      "text/plain": [
       "<Figure size 640x480 with 1 Axes>"
      ]
     },
     "metadata": {},
     "output_type": "display_data"
    }
   ],
   "source": [
    "musicDF.toPandas().plot.scatter (x = 'HoursPerDay', y = 'Age')"
   ]
  },
  {
   "cell_type": "code",
   "execution_count": 75,
   "id": "d6b3c9e3-1c98-46f0-8303-c6a223b9c0a8",
   "metadata": {},
   "outputs": [],
   "source": [
    "musicDF = musicDF.na.replace(999999999, None)\n",
    "musicDF = musicDF.na.replace(624, None)"
   ]
  },
  {
   "cell_type": "code",
   "execution_count": 76,
   "id": "74bc1d5e-c342-4484-bfbc-845d0cd2b432",
   "metadata": {},
   "outputs": [],
   "source": [
    "musicDF.createOrReplaceTempView(\"music\")"
   ]
  },
  {
   "cell_type": "code",
   "execution_count": 77,
   "id": "efbd3e09-de57-4767-af47-1100e07345a4",
   "metadata": {},
   "outputs": [],
   "source": [
    "musicDF = spark.sql(\"\"\"SELECT *,\n",
    "       CASE\n",
    "           WHEN (BPM IS NULL) OR (BPM = 624) OR (BPM = 999999999) THEN ROUND(AVG(BPM) OVER (PARTITION BY FavGenre))\n",
    "           ELSE BPM\n",
    "       END AS BPM_filled\n",
    "FROM music\"\"\")"
   ]
  },
  {
   "cell_type": "code",
   "execution_count": 78,
   "id": "f4b01ed8-5004-430c-a22e-39f9ee654662",
   "metadata": {},
   "outputs": [],
   "source": [
    "musicDF = musicDF.drop(\"BPM\")"
   ]
  },
  {
   "cell_type": "code",
   "execution_count": 79,
   "id": "8b24875b-21b0-4d38-a494-0f96ad2059c0",
   "metadata": {},
   "outputs": [],
   "source": [
    "musicDF = musicDF.withColumnRenamed(\"BPM_filled\", \"BPM\")"
   ]
  },
  {
   "cell_type": "code",
   "execution_count": 80,
   "id": "0ef4056d-5f12-4309-88d0-b03a0e36444d",
   "metadata": {},
   "outputs": [
    {
     "data": {
      "text/plain": [
       "<Axes: xlabel='BPM', ylabel='Age'>"
      ]
     },
     "execution_count": 80,
     "metadata": {},
     "output_type": "execute_result"
    },
    {
     "data": {
      "image/png": "[encoded data removed]",
      "text/plain": [
       "<Figure size 640x480 with 1 Axes>"
      ]
     },
     "metadata": {},
     "output_type": "display_data"
    }
   ],
   "source": [
    "musicDF.toPandas().plot.scatter (x = 'BPM', y = 'Age')"
   ]
  },
  {
   "cell_type": "code",
   "execution_count": 81,
   "id": "95d9749f-27a9-4368-9333-03e256f822a2",
   "metadata": {},
   "outputs": [],
   "source": [
    "# Отсечения выбросов:\n",
    "musicDF=musicDF.filter(musicDF.BPM<=220)\n",
    "musicDF=musicDF.filter(musicDF.BPM>=50)"
   ]
  },
  {
   "cell_type": "code",
   "execution_count": 82,
   "id": "ebfdfdbf-4d31-4e08-bab9-2fac410cdac1",
   "metadata": {},
   "outputs": [
    {
     "data": {
      "text/plain": [
       "<Axes: xlabel='BPM', ylabel='Age'>"
      ]
     },
     "execution_count": 82,
     "metadata": {},
     "output_type": "execute_result"
    },
    {
     "data": {
      "image/png": "[encoded data removed]",
      "text/plain": [
       "<Figure size 640x480 with 1 Axes>"
      ]
     },
     "metadata": {},
     "output_type": "display_data"
    }
   ],
   "source": [
    "musicDF.toPandas().plot.scatter (x = 'BPM', y = 'Age')"
   ]
  },
  {
   "cell_type": "code",
   "execution_count": 83,
   "id": "22a913d8-9efd-4a8d-900c-07dd7249f0c2",
   "metadata": {},
   "outputs": [],
   "source": [
    "musicDF = musicDF.dropna(subset = \"StrService\")\n",
    "musicDF = musicDF.dropna(subset = \"ForeignLanguages\")\n",
    "musicDF = musicDF.dropna(subset = \"Instrumentalist\")\n",
    "musicDF = musicDF.dropna(subset = \"WhileWorking\")\n",
    "musicDF = musicDF.dropna(subset = \"MusicEffects\")"
   ]
  },
  {
   "cell_type": "code",
   "execution_count": 84,
   "id": "85fd2493-c40e-4d33-a8a7-c42e59d85461",
   "metadata": {},
   "outputs": [],
   "source": [
    "musicDF.createOrReplaceTempView(\"music\")"
   ]
  },
  {
   "cell_type": "code",
   "execution_count": 85,
   "id": "bc6df920-17fe-40e5-8933-dc6795d5b4da",
   "metadata": {
    "scrolled": true
   },
   "outputs": [
    {
     "name": "stdout",
     "output_type": "stream",
     "text": [
      "+----+\n",
      "| BPM|\n",
      "+----+\n",
      "|52.0|\n",
      "|55.0|\n",
      "|55.0|\n",
      "|56.0|\n",
      "|60.0|\n",
      "|60.0|\n",
      "|61.0|\n",
      "|62.0|\n",
      "|63.0|\n",
      "|66.0|\n",
      "|66.0|\n",
      "|66.0|\n",
      "|68.0|\n",
      "|70.0|\n",
      "|70.0|\n",
      "|70.0|\n",
      "|72.0|\n",
      "|72.0|\n",
      "|72.0|\n",
      "|72.0|\n",
      "+----+\n",
      "only showing top 20 rows\n",
      "\n"
     ]
    }
   ],
   "source": [
    "spark.sql(\"\"\"   SELECT BPM\n",
    "                FROM music\n",
    "                ORDER BY BPM ASC\"\"\").show()"
   ]
  },
  {
   "cell_type": "code",
   "execution_count": 86,
   "id": "f3a68a4b-8332-4770-866c-00e290f9fb57",
   "metadata": {
    "scrolled": true
   },
   "outputs": [
    {
     "name": "stdout",
     "output_type": "stream",
     "text": [
      "+-----+\n",
      "|  BPM|\n",
      "+-----+\n",
      "|220.0|\n",
      "|220.0|\n",
      "|218.0|\n",
      "|210.0|\n",
      "|210.0|\n",
      "|208.0|\n",
      "|204.0|\n",
      "|200.0|\n",
      "|200.0|\n",
      "|200.0|\n",
      "|200.0|\n",
      "|200.0|\n",
      "|200.0|\n",
      "|200.0|\n",
      "|194.0|\n",
      "|194.0|\n",
      "|193.0|\n",
      "|192.0|\n",
      "|191.0|\n",
      "|190.0|\n",
      "+-----+\n",
      "only showing top 20 rows\n",
      "\n"
     ]
    }
   ],
   "source": [
    "spark.sql(\"\"\"   SELECT BPM\n",
    "                FROM music\n",
    "                ORDER BY BPM DESC\"\"\").show()"
   ]
  },
  {
   "cell_type": "code",
   "execution_count": 87,
   "id": "3a42a734-0bb0-4236-8ba2-bfadc743009f",
   "metadata": {
    "scrolled": true
   },
   "outputs": [
    {
     "name": "stdout",
     "output_type": "stream",
     "text": [
      "+---+\n",
      "|Age|\n",
      "+---+\n",
      "| 13|\n",
      "| 13|\n",
      "| 13|\n",
      "| 13|\n",
      "| 13|\n",
      "| 13|\n",
      "| 13|\n",
      "| 14|\n",
      "| 14|\n",
      "| 14|\n",
      "| 14|\n",
      "| 14|\n",
      "| 14|\n",
      "| 14|\n",
      "| 14|\n",
      "| 14|\n",
      "| 14|\n",
      "| 14|\n",
      "| 14|\n",
      "| 14|\n",
      "+---+\n",
      "only showing top 20 rows\n",
      "\n"
     ]
    }
   ],
   "source": [
    "spark.sql(\"\"\"   SELECT Age\n",
    "                FROM music\n",
    "                ORDER BY Age ASC\"\"\").show()"
   ]
  },
  {
   "cell_type": "code",
   "execution_count": 88,
   "id": "dca0045f-a604-4c84-893c-60855deec8dd",
   "metadata": {},
   "outputs": [],
   "source": [
    "# Русификация данных:\n",
    "musicDF = musicDF.na.replace('Sometimes', \"Иногда\")\n",
    "musicDF = musicDF.na.replace('Very frequently', \"Очень часто\")\n",
    "musicDF = musicDF.na.replace('Rarely', \"Редко\")\n",
    "musicDF = musicDF.na.replace('Never', \"Никогда\")\n",
    "musicDF = musicDF.na.replace('Yes', \"Да\")\n",
    "musicDF = musicDF.na.replace('No', \"Нет\")\n",
    "musicDF = musicDF.na.replace('I do not use a streaming service.', \"Не пользуюсь\")\n",
    "musicDF = musicDF.na.replace('Other streaming service', \"Другое\")\n",
    "musicDF = musicDF.na.replace('No effect', \"Нет эффекта\")\n",
    "musicDF = musicDF.na.replace('Improve', \"Улучшение\")\n",
    "musicDF = musicDF.na.replace('Worsen', \"Ухудшение\")"
   ]
  },
  {
   "cell_type": "code",
   "execution_count": 89,
   "id": "a489aa0d-908c-4b8d-94be-a7410f114225",
   "metadata": {},
   "outputs": [
    {
     "name": "stdout",
     "output_type": "stream",
     "text": [
      "--------------------------------------\n",
      " Столбец Age: [19 16 17 36 24 25 31 23 29 32 54 14 13 15 69 22 20 58 49 64 34 21 42 18\n",
      " 30 35 70 43 26 28 44 27 37 60 57 39 61 56 33 41 40 38 48 53 59 65 63 67\n",
      " 51 50 46]\n",
      "--------------------------------------\n",
      " Столбец StrService: ['Spotify' 'Apple Music' 'Не пользуюсь' 'YouTube Music' 'Pandora' 'Другое']\n",
      "--------------------------------------\n",
      " Столбец HoursPerDay: [ 2.    1.    3.    4.    0.5   6.    5.    8.    1.5   0.25  7.   10.\n",
      "  2.5   0.1  12.   11.    9.    0.7   4.5 ]\n",
      "--------------------------------------\n",
      " Столбец WhileWorking: ['Да' 'Нет']\n",
      "--------------------------------------\n",
      " Столбец Instrumentalist: ['Нет' 'Да']\n",
      "--------------------------------------\n",
      " Столбец Composer: ['Нет' 'Да']\n",
      "--------------------------------------\n",
      " Столбец FavGenre: ['Classical' 'Country' 'EDM' 'Folk' 'Gospel' 'Hip hop' 'Jazz' 'K pop'\n",
      " 'Latin' 'Lofi' 'Metal' 'Pop' 'R&B' 'Rap' 'Rock' 'Video game music']\n",
      "--------------------------------------\n",
      " Столбец Exploratory: ['Нет' 'Да']\n",
      "--------------------------------------\n",
      " Столбец ForeignLanguages: ['Нет' 'Да']\n",
      "--------------------------------------\n",
      " Столбец BPM: [120.  75. 132. 115. 175. 140. 122. 103.  96. 135.  72. 181. 126. 106.\n",
      " 118. 113. 100.  55. 155. 174.  80. 114.  95. 171.  92.  68. 150. 110.\n",
      " 117. 170.  88. 119.  90. 108. 125.  86. 109. 105. 163. 161. 128. 121.\n",
      " 107. 156. 136.  97. 200. 180.  91. 102. 138. 137. 130. 160.  89. 147.\n",
      "  87.  63. 123. 116. 186.  99.  56. 165.  93. 157.  78.  77.  84.  85.\n",
      " 127. 131. 178. 144. 168.  98. 148. 167.  94.  81. 169. 158. 124. 204.\n",
      " 172.  73.  79.  82. 141. 162. 189. 149. 134. 185. 190. 194. 146. 220.\n",
      " 104. 111. 191. 143. 159. 210. 129. 218.  70. 101. 183.  61.  60. 145.\n",
      "  76. 112. 208. 192. 164. 153. 142. 193. 179. 166.  52. 139.  62.  66.\n",
      " 133. 173.]\n",
      "--------------------------------------\n",
      " Столбец FrequencyClassical: ['Очень часто' 'Иногда' 'Никогда' 'Редко']\n",
      "--------------------------------------\n",
      " Столбец FrequencyCountry: ['Никогда' 'Иногда' 'Редко' 'Очень часто']\n",
      "--------------------------------------\n",
      " Столбец FrequencyEDM: ['Никогда' 'Очень часто' 'Редко' 'Иногда']\n",
      "--------------------------------------\n",
      " Столбец FrequencyFolk: ['Никогда' 'Редко' 'Очень часто' 'Иногда']\n",
      "--------------------------------------\n",
      " Столбец FrequencyGospel: ['Никогда' 'Редко' 'Иногда' 'Очень часто']\n",
      "--------------------------------------\n",
      " Столбец FrequencyHipHop: ['Редко' 'Никогда' 'Очень часто' 'Иногда']\n",
      "--------------------------------------\n",
      " Столбец FrequencyJazz: ['Редко' 'Никогда' 'Иногда' 'Очень часто']\n",
      "--------------------------------------\n",
      " Столбец FrequencyKpop: ['Никогда' 'Иногда' 'Редко' 'Очень часто']\n",
      "--------------------------------------\n",
      " Столбец FrequencyLatin: ['Никогда' 'Редко' 'Иногда' 'Очень часто']\n",
      "--------------------------------------\n",
      " Столбец FrequencyLofi: ['Иногда' 'Никогда' 'Редко' 'Очень часто']\n",
      "--------------------------------------\n",
      " Столбец FrequencyMetal: ['Никогда' 'Редко' 'Иногда' 'Очень часто']\n",
      "--------------------------------------\n",
      " Столбец FrequencyPop: ['Очень часто' 'Никогда' 'Иногда' 'Редко']\n",
      "--------------------------------------\n",
      " Столбец FrequencyR&B: ['Никогда' 'Очень часто' 'Редко' 'Иногда']\n",
      "--------------------------------------\n",
      " Столбец FrequencyRap: ['Никогда' 'Очень часто' 'Редко' 'Иногда']\n",
      "--------------------------------------\n",
      " Столбец FrequencyRock: ['Никогда' 'Редко' 'Иногда' 'Очень часто']\n",
      "--------------------------------------\n",
      " Столбец FrequencyVideoGameMusic: ['Очень часто' 'Редко' 'Иногда' 'Никогда']\n",
      "--------------------------------------\n",
      " Столбец Anxiety: [ 4  0  6  8  1  3  7  5  9  2 10]\n",
      "--------------------------------------\n",
      " Столбец Depression: [ 4  0  6  9  1  3  8  5  2  7 10]\n",
      "--------------------------------------\n",
      " Столбец Insomnia: [ 4  0  8  3  1  5  9  6  2 10  7]\n",
      "--------------------------------------\n",
      " Столбец OCD: [ 3  0  2  1  5  8  4  6  7 10  9]\n",
      "--------------------------------------\n",
      " Столбец MusicEffects: ['Нет эффекта' 'Улучшение' 'Ухудшение']\n"
     ]
    }
   ],
   "source": [
    "# Проверка изменений:\n",
    "for column in newColumns:\n",
    "    print(f\"--------------------------------------\\n Столбец {column}: {musicDF.toPandas()[column].unique()}\")\n",
    "del column"
   ]
  },
  {
   "cell_type": "code",
   "execution_count": 90,
   "id": "c3734146-21e9-43ae-8c46-f23ecd96ca6d",
   "metadata": {},
   "outputs": [
    {
     "data": {
      "text/plain": [
       "690"
      ]
     },
     "execution_count": 90,
     "metadata": {},
     "output_type": "execute_result"
    }
   ],
   "source": [
    "# Подсчёт количества строк для отслеживания количества потерянных данных\n",
    "musicDF.count()"
   ]
  },
  {
   "cell_type": "code",
   "execution_count": 94,
   "id": "45c5cb06-24f3-4d42-8093-d55e0736982b",
   "metadata": {},
   "outputs": [
    {
     "name": "stderr",
     "output_type": "stream",
     "text": [
      "<>:2: SyntaxWarning: invalid escape sequence '\\M'\n",
      "<>:2: SyntaxWarning: invalid escape sequence '\\M'\n",
      "C:\\Users\\david\\AppData\\Local\\Temp\\ipykernel_10496\\2289050839.py:2: SyntaxWarning: invalid escape sequence '\\M'\n",
      "  path = 'D:\\MusicData\\Base_Table'\n"
     ]
    }
   ],
   "source": [
    "#Расскоментировать если необходимо установить файл:\n",
    "path = 'D:\\musicData\\Base_Table'\n",
    "musicDF.toPandas().to_csv(path)"
   ]
  },
  {
   "cell_type": "code",
   "execution_count": 92,
   "id": "e9400c1e-e25a-4d5e-90d1-53163efbaeff",
   "metadata": {},
   "outputs": [],
   "source": [
    "AvgFavGengre = spark.sql(\"\"\"SELECT DISTINCT ROUND(AVG(BPM) OVER (PARTITION BY FavGenre)) as AvarageBPM, FavGenre\n",
    "                            FROM music            \"\"\")"
   ]
  },
  {
   "cell_type": "code",
   "execution_count": 93,
   "id": "3b1d3eb4-a6a4-41af-995b-c65f3a82630f",
   "metadata": {},
   "outputs": [
    {
     "name": "stdout",
     "output_type": "stream",
     "text": [
      "+----------+----------------+\n",
      "|AvarageBPM|        FavGenre|\n",
      "+----------+----------------+\n",
      "|     116.0|       Classical|\n",
      "|     111.0|         Country|\n",
      "|     137.0|             EDM|\n",
      "|     114.0|            Folk|\n",
      "|     110.0|          Gospel|\n",
      "|     113.0|         Hip hop|\n",
      "|     126.0|            Jazz|\n",
      "|     129.0|           K pop|\n",
      "|     123.0|           Latin|\n",
      "|     114.0|            Lofi|\n",
      "|     143.0|           Metal|\n",
      "|     119.0|             Pop|\n",
      "|     118.0|             R&B|\n",
      "|     128.0|             Rap|\n",
      "|     124.0|            Rock|\n",
      "|     121.0|Video game music|\n",
      "+----------+----------------+\n",
      "\n"
     ]
    }
   ],
   "source": [
    "AvgFavGengre.show()"
   ]
  },
  {
   "cell_type": "code",
   "execution_count": 68,
   "id": "eacc4178-2dd0-42ed-8162-430db255088b",
   "metadata": {},
   "outputs": [],
   "source": [
    "# Проверка правильности выполнения запроса:\n",
    "# spark.sql(\"\"\"SELECT DISTINCT ROUND(AVG(BPM)) as AvarageBPM, FavGenre\n",
    "#                             FROM music\n",
    "#                             WHERE FavGenre = 'Rap'\n",
    "#                             GROUP BY FavGenre\"\"\").show()"
   ]
  },
  {
   "cell_type": "code",
   "execution_count": 50,
   "id": "b262ccfb-9184-4fba-bd3c-678258072482",
   "metadata": {},
   "outputs": [
    {
     "name": "stderr",
     "output_type": "stream",
     "text": [
      "<>:2: SyntaxWarning: invalid escape sequence '\\m'\n",
      "<>:2: SyntaxWarning: invalid escape sequence '\\m'\n",
      "C:\\Users\\david\\AppData\\Local\\Temp\\ipykernel_10496\\1908724735.py:2: SyntaxWarning: invalid escape sequence '\\m'\n",
      "  path = 'D:\\musicData\\AvarageFavGenre_Table'\n"
     ]
    }
   ],
   "source": [
    "#Расскоментировать если необходимо установить файл:\n",
    "path = 'D:\\musicData\\AvarageFavGenre_Table'\n",
    "AvgFavGengre.toPandas().to_csv(path)"
   ]
  },
  {
   "cell_type": "code",
   "execution_count": null,
   "id": "bcb869f8-1f5b-447d-ab70-0acca660abb7",
   "metadata": {},
   "outputs": [],
   "source": []
  }
 ],
 "metadata": {
  "kernelspec": {
   "display_name": "Python 3 (ipykernel)",
   "language": "python",
   "name": "python3"
  },
  "language_info": {
   "codemirror_mode": {
    "name": "ipython",
    "version": 3
   },
   "file_extension": ".py",
   "mimetype": "text/x-python",
   "name": "python",
   "nbconvert_exporter": "python",
   "pygments_lexer": "ipython3",
   "version": "3.12.4"
  }
 },
 "nbformat": 4,
 "nbformat_minor": 5
}
